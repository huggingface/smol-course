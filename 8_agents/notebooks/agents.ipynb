{
    "cells": [
        {
            "cell_type": "markdown",
            "metadata": {},
            "source": [
                "# 构建 AI 智能体\n",
                "\n",
                "\n",
                "本文包含一些练习，旨在帮助你学习如何使用 `smolagents` 库构建不同类型的智能体。我们将从基础实现逐步过渡到更复杂的实现。\n",
                "\n",
                "## 准备\n",
                "\n",
                "首先我们要安装需要用到的包："
            ]
        },
        {
            "cell_type": "code",
            "execution_count": null,
            "metadata": {},
            "outputs": [],
            "source": [
                "!pip install smolagents\n",
                "\n",
                "# Install the requirements in Google Colab\n",
                "# !pip install transformers datasets trl huggingface_hub\n",
                "\n",
                "# Authenticate to Hugging Face\n",
                "from huggingface_hub import login\n",
                "\n",
                "login()"
            ]
        },
        {
            "cell_type": "markdown",
            "metadata": {},
            "source": [
                "## 🐢 练习 1：基本的代码智能体\n",
                "\n",
                "我们从创建一个简单的代码智能体开始，它可以通过网页搜索回答一些编程相关的问题。"
            ]
        },
        {
            "cell_type": "code",
            "execution_count": null,
            "metadata": {},
            "outputs": [],
            "source": [
                "from smolagents import CodeAgent, DuckDuckGoSearchTool, HfApiModel\n",
                "\n",
                "# Initialize the agent\n",
                "agent = CodeAgent(tools=[DuckDuckGoSearchTool()], model=HfApiModel())\n",
                "\n",
                "# Test the agent\n",
                "response = agent.run(\"What's the difference between a list and a tuple in Python?\")\n",
                "print(response)"
            ]
        },
        {
            "cell_type": "markdown",
            "metadata": {},
            "source": [
                "### 🤔 练习 1 挑战项\n",
                "试着让智能体解释不同的编程概念，并评估它的回复。它在以下方面的表现如何：\n",
                "1. 基本的语法问题\n",
                "2. 语言特定的特性\n",
                "3. 代码示例"
            ]
        },
        {
            "cell_type": "markdown",
            "metadata": {},
            "source": [
                "## 🐕 练习 2：带有自定义函数的智能体\n",
                "\n",
                "现在我们创建一个可以通过自定义的函数去执行特定任务的智能体。这里我们创建一个简单的计算器，让它作为自定义的工具。"
            ]
        },
        {
            "cell_type": "code",
            "execution_count": null,
            "metadata": {},
            "outputs": [],
            "source": [
                "from smolagents import CodeAgent, tool\n",
                "from typing import Union\n",
                "\n",
                "\n",
                "@tool\n",
                "def calculate(operation: str, numbers: object) -> float:\n",
                "    \"\"\"Performs basic mathematical operations on a list of numbers.\n",
                "\n",
                "    Args:\n",
                "        operation: One of 'sum', 'average', 'multiply', 'min', 'max'\n",
                "        numbers: List of numbers to operate on\n",
                "\n",
                "    Returns:\n",
                "        float: Result of the operation\n",
                "    \"\"\"\n",
                "    if operation == \"sum\":\n",
                "        return sum(numbers)\n",
                "    elif operation == \"average\":\n",
                "        return sum(numbers) / len(numbers)\n",
                "    elif operation == \"multiply\":\n",
                "        result = 1\n",
                "        for n in numbers:\n",
                "            result *= n\n",
                "        return result\n",
                "    elif operation == \"min\":\n",
                "        return min(numbers)\n",
                "    elif operation == \"max\":\n",
                "        return max(numbers)\n",
                "    else:\n",
                "        raise ValueError(f\"Unknown operation: {operation}\")\n",
                "\n",
                "\n",
                "# Create agent with custom tool\n",
                "math_agent = CodeAgent(tools=[calculate], model=HfApiModel())\n",
                "\n",
                "# Test the agent\n",
                "response = math_agent.run(\"What is the average of 10, 15, 20, 25, and 30?\")\n",
                "print(response)"
            ]
        },
        {
            "cell_type": "markdown",
            "metadata": {},
            "source": [
                "### 🤔 练习 2 挑战项\n",
                "1. 往计算器这个工具多加入点数学运算功能\n",
                "2. 创建一个新的自定义工具（例如，字符串处理或日期计算）\n",
                "3. 把多个工具结合入一个智能体中"
            ]
        },
        {
            "cell_type": "markdown",
            "metadata": {},
            "source": [
                "## 🦁 练习 3：改进检索智能体\n",
                "\n",
                "最后，让我们构建一个更复杂的智能体，它将网络搜索和记忆相结合，以便在对话中保持上下文连贯。"
            ]
        },
        {
            "cell_type": "code",
            "execution_count": null,
            "metadata": {},
            "outputs": [],
            "source": [
                "from smolagents import CodeAgent, DuckDuckGoSearchTool\n",
                "\n",
                "# Initialize the agent with memory\n",
                "research_agent = CodeAgent(...)  # TODO: Define the agent\n",
                "\n",
                "# Test with a multi-turn conversation\n",
                "questions = [\n",
                "    \"What are the main types of machine learning?\",\n",
                "    \"Can you explain supervised learning in more detail?\",\n",
                "    \"What are some popular algorithms for this type?\",\n",
                "]\n",
                "\n",
                "# TODO: Test the agent"
            ]
        },
        {
            "cell_type": "markdown",
            "metadata": {},
            "source": [
                "### 🤔 Exercise 3 Challenge\n",
                "1. 测试智能体在不同主题下保持上下文的能力如何。\n",
                "2. 实现一个自定义知识库工具（如 [这里](retrieval_agents_cn.md) 所示）。\n",
                "3. 创建一个混合智能体，将代码理解能力与研究能力相结合。"
            ]
        }
    ],
    "metadata": {
        "kernelspec": {
            "display_name": "Python 3",
            "language": "python",
            "name": "python3"
        },
        "language_info": {
            "codemirror_mode": {
                "name": "ipython",
                "version": 3
            },
            "file_extension": ".py",
            "mimetype": "text/x-python",
            "name": "python",
            "nbconvert_exporter": "python",
            "pygments_lexer": "ipython3",
            "version": "3.12.8"
        }
    },
    "nbformat": 4,
    "nbformat_minor": 2
}
