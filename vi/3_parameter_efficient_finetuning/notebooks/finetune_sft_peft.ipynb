{
 "cells": [
  {
   "cell_type": "markdown",
   "metadata": {
    "id": "z-6LLOPZouLg"
   },
   "source": [
    "# Cách tinh chỉnh mô hình LLM với bộ điều hợp LoRA sử dụng Hugging Face TRL\n",
    "\n",
    "Notebook này trình bày cách tinh chỉnh hiệu quả các mô hình ngôn ngữ lớn sử dụng bộ điều hợp LoRA (Thích nghi hạng thấp). LoRA là một kỹ thuật tinh chỉnh hiệu quả về tham số với các đặc điểm:\n",
    "- Đóng băng trọng số mô hình đã huấn luyện trước\n",
    "- Thêm các ma trận phân rã hạng nhỏ có thể huấn luyện vào các lớp attention\n",
    "- Thường giảm khoảng 90% số tham số cần huấn luyện\n",
    "- Duy trì hiệu suất mô hình trong khi vẫn tiết kiệm bộ nhớ\n",
    "\n",
    "Chúng ta sẽ tìm hiểu:\n",
    "1. Thiết lập môi trường phát triển và cấu hình LoRA\n",
    "2. Tạo và chuẩn bị tập dữ liệu để huấn luyện bộ điều hợp\n",
    "3. Tinh chỉnh sử dụng `trl` và `SFTTrainer` với bộ điều hợp LoRA\n",
    "4. Kiểm thử mô hình và kết hợp bộ điều hợp (tùy chọn)"
   ]
  },
  {
   "cell_type": "markdown",
   "metadata": {
    "id": "fXqd9BXgouLi"
   },
   "source": [
    "## 1. Thiết lập môi trường \n",
    "\n",
    "Bước đầu tiên là cài đặt Thư viện Hugging Face và Pyroch, bao gồm trl, transformers và datasets. Nếu bạn chưa nghe nói về trl, đừng lo lắng. Đây là một thư viện mới trên đầu transformers và datasets, giúp tinh chỉnh các LLM mở dễ dàng hơn.\n"
   ]
  },
  {
   "cell_type": "code",
   "execution_count": null,
   "metadata": {
    "id": "tKvGVxImouLi"
   },
   "outputs": [],
   "source": [
    "# Cài đặt các thư viện cần thiết\n",
    "# !pip install transformers datasets trl huggingface_hub\n",
    "\n",
    "# Đăng nhập vào Hugging Face\n",
    "\n",
    "from huggingface_hub import login\n",
    "\n",
    "login()\n",
    "\n",
    "# Để tiện lợi, hãy tạo một biến môi trường lưu token của bạn như là HF_TOKEN"
   ]
  },
  {
   "cell_type": "markdown",
   "metadata": {
    "id": "XHUzfwpKouLk"
   },
   "source": [
    "## 2. Load the dataset"
   ]
  },
  {
   "cell_type": "code",
   "execution_count": 13,
   "metadata": {
    "id": "z4p6Bvo7ouLk"
   },
   "outputs": [
    {
     "data": {
      "text/plain": [
       "DatasetDict({\n",
       "    train: Dataset({\n",
       "        features: ['full_topic', 'messages'],\n",
       "        num_rows: 2260\n",
       "    })\n",
       "    test: Dataset({\n",
       "        features: ['full_topic', 'messages'],\n",
       "        num_rows: 119\n",
       "    })\n",
       "})"
      ]
     },
     "execution_count": 13,
     "metadata": {},
     "output_type": "execute_result"
    }
   ],
   "source": [
    "# Tải bộ dữ liệu từ Hugging Face\n",
    "from datasets import load_dataset\n",
    "\n",
    "# TODO: hãy thay đổi path và name cho phù hợp với bộ dữ liệu bạn muốn tải\n",
    "dataset = load_dataset(path=\"HuggingFaceTB/smoltalk\", name=\"everyday-conversations\")\n",
    "dataset"
   ]
  },
  {
   "cell_type": "markdown",
   "metadata": {
    "id": "9TOhJdtsouLk"
   },
   "source": [
    "## 3. Tinh chỉnh LLM sử dụng `trl` và `SFTTrainer` với LoRA\n",
    "\n",
    "[SFTTrainer](https://huggingface.co/docs/trl/sft_trainer) từ `trl` cung cấp tích hợp với bộ điều hợp LoRA thông qua thư viện [PEFT](https://huggingface.co/docs/peft/en/index). Những lợi thế chính của cách thiết lập này bao gồm:\n",
    "\n",
    "1. **Hiệu quả bộ nhớ**: \n",
    "   - Chỉ các tham số bộ điều hợp được lưu trong bộ nhớ GPU\n",
    "   - Trọng số mô hình cơ sở vẫn được đóng băng và có thể được tải với độ chính xác thấp hơn\n",
    "   - Cho phép tinh chỉnh các mô hình lớn trên GPU thông dụng\n",
    "\n",
    "2. **Tính năng huấn luyện**:\n",
    "   - Tích hợp sẵn PEFT/LoRA với thiết lập tối thiểu\n",
    "   - Hỗ trợ QLoRA (LoRA lượng tử hóa) để hiệu quả bộ nhớ tốt hơn nữa\n",
    "\n",
    "3. **Quản lý bộ điều hợp**:\n",
    "   - Lưu trọng số bộ điều hợp trong các điểm kiểm tra\n",
    "   - Các tính năng để kết hợp bộ điều hợp trở lại mô hình cơ sở\n",
    "\n",
    "Chúng ta sẽ sử dụng LoRA trong ví dụ của mình, kết hợp LoRA với lượng tử hóa 4-bit để giảm thêm mức sử dụng bộ nhớ mà không ảnh hưởng đến hiệu suất. Thiết lập chỉ yêu cầu một vài bước cấu hình:\n",
    "1. Xác định cấu hình LoRA (hạng, alpha, dropout)\n",
    "2. Tạo SFTTrainer với cấu hình PEFT\n",
    "3. Huấn luyện và lưu trọng số bộ điều hợp\n"
   ]
  },
  {
   "cell_type": "code",
   "execution_count": null,
   "metadata": {},
   "outputs": [],
   "source": [
    "# Import các thư viện cần thiết\n",
    "from transformers import AutoModelForCausalLM, AutoTokenizer\n",
    "from datasets import load_dataset\n",
    "from trl import SFTConfig, SFTTrainer, setup_chat_format\n",
    "import torch\n",
    "\n",
    "device = (\n",
    "    \"cuda\"\n",
    "    if torch.cuda.is_available()\n",
    "    else \"mps\" if torch.backends.mps.is_available() else \"cpu\"\n",
    ")\n",
    "\n",
    "# Tải mô hình và tokenizer\n",
    "model_name = \"HuggingFaceTB/SmolLM2-135M\"\n",
    "\n",
    "model = AutoModelForCausalLM.from_pretrained(\n",
    "    pretrained_model_name_or_path=model_name\n",
    ").to(device)\n",
    "tokenizer = AutoTokenizer.from_pretrained(pretrained_model_name_or_path=model_name)\n",
    "\n",
    "# Tinh chỉnh định dạng\n",
    "model, tokenizer = setup_chat_format(model=model, tokenizer=tokenizer)\n",
    "\n",
    "# Đặt tên cho mô hình tinh chỉnh\n",
    "finetune_name = \"SmolLM2-FT-MyDataset\"\n",
    "finetune_tags = [\"smol-course\", \"module_1\"]"
   ]
  },
  {
   "cell_type": "markdown",
   "metadata": {
    "id": "ZbuVArTHouLk"
   },
   "source": [
    "`SFTTrainer` hỗ trợ tích hợp sẵn với `peft`, điều này giúp việc tinh chỉnh hiệu quả các mô hình LLM trở nên cực kỳ dễ dàng, ví dụ như sử dụng LoRA. Chúng ta chỉ cần tạo `LoraConfig` và cung cấp nó cho trình huấn luyện.\n",
    "\n",
    "<div style='background-color: lightblue; padding: 10px; border-radius: 5px; margin-bottom: 20px; color:black'>\n",
    "    <h2 style='margin: 0;color:blue'>Bài tập: Xác định tham số LoRA cho tinh chỉnh</h2>\n",
    "    <p>Lấy một tập dữ liệu từ Hugging Face hub và tinh chỉnh một mô hình trên đó.</p>\n",
    "    <p><b>Các mức độ khó</b></p>\n",
    "    <p>🐢 Sử dụng các tham số chung cho một lần tinh chỉnh bất kỳ</p>\n",
    "    <p>🐕 Điều chỉnh các tham số và đánh giá trong weights & biases</p>\n",
    "    <p>🦁 Điều chỉnh các tham số và hiển thị sự thay đổi trong kết quả suy luận</p>\n",
    "</div>"
   ]
  },
  {
   "cell_type": "code",
   "execution_count": null,
   "metadata": {
    "id": "blDSs9swouLk"
   },
   "outputs": [],
   "source": [
    "from peft import LoraConfig\n",
    "\n",
    "# TODO: Tinh chỉnh các tham số LoRA\n",
    "# r: hạng của ma trận LoRA (thường nằm trong khoảng 4-32) , nhỏ hơn tức là sẽ nén nhiều hơn\n",
    "rank_dimension = 6\n",
    "# lora_alpha: hệ số tỷ lệ cho các lớp LoRA (cao = sự thích nghi mạnh mẽ hơn)\n",
    "lora_alpha = 8\n",
    "# lora_dropout: tỉ lệ dropout cho các lớp LoRA (giúp mô hình tránh tình trạng overfitting)\n",
    "\n",
    "lora_dropout = 0.05\n",
    "\n",
    "peft_config = LoraConfig(\n",
    "    r=rank_dimension,  # hạng của ma trận LoRA\n",
    "    lora_alpha=lora_alpha,  # hệ số tỷ lệ cho các lớp LoRA\n",
    "    lora_dropout=lora_dropout,  # tỉ lệ dropout cho các lớp LoRA\n",
    "    bias=\"none\",  # Loại bias cho LoRA, những bias sẽ được cập nhật trong quá trình huấn luyện\n",
    "    target_modules=\"all-linear\",  # Những module mà LoRA sẽ được áp dụng\n",
    "    task_type=\"CAUSAL_LM\",  # Loại bài toán mà mô hình đang giải quyết\n",
    ")"
   ]
  },
  {
   "cell_type": "markdown",
   "metadata": {
    "id": "l5NUDPcaouLl"
   },
   "source": [
    "Trước khi chúng ta có thể bắt đầu huấn luyện, chúng ta cần xác định các siêu tham số (`TrainingArguments`) mà chúng ta muốn sử dụng."
   ]
  },
  {
   "cell_type": "code",
   "execution_count": null,
   "metadata": {
    "id": "NqT28VZlouLl"
   },
   "outputs": [],
   "source": [
    "# Những cài đặt cho quá trình tinh chỉnh\n",
    "# Những siêu tham số dựa vào gợi ý từ bài báo QLoRA\n",
    "args = SFTConfig(\n",
    "    # Cài đặt đầu ra\n",
    "    output_dir=finetune_name,  # Đường dẫn lưu  mô hình tinh chỉnh\n",
    "    # Thời gian huấn luyện\n",
    "    num_train_epochs=1,  # Số epoch\n",
    "    # Cài đặt batch_size\n",
    "    per_device_train_batch_size=2,  # Batch size trên mỗi GPU\n",
    "    gradient_accumulation_steps=2,  # Accumulate gradients cho batch_size lớn hơn\n",
    "    # Tối ưu bộ nhớ\n",
    "    gradient_checkpointing=True,  # Sử dụng gradient checkpointing để giảm bộ nhớ nhưng tăng thời gian huấn luyện\n",
    "    # Tinh chỉnh tối ưu hóa\n",
    "    optim=\"adamw_torch_fused\",  # Sử dụng AdamW\n",
    "    learning_rate=2e-4,  # Hệ số learning_rate (QLoRA paper)\n",
    "    max_grad_norm=0.3,  # Giới hạn gradient lớn nhất\n",
    "    # Cài đặt learning rate\n",
    "    warmup_ratio=0.03,  # Phần trăm số bước học tăng dần\n",
    "    lr_scheduler_type=\"constant\",  # Giữ nguyên learning rate\n",
    "    # Logging và lưu trữ\n",
    "    logging_steps=10,  # In ra thông tin sau mỗi bước\n",
    "    save_strategy=\"epoch\",  # Lưu mô hình sau mỗi epoch\n",
    "    # Precision settings\n",
    "    bf16=True,  # Sử dụng bfloat16\n",
    "    # Những cài đặt khác\n",
    "    push_to_hub=False,  # Không tải lên HuggingFace Hub\n",
    "    report_to=\"none\",  # Không gửi kết quả lên các nền tảng khác\n",
    ")"
   ]
  },
  {
   "cell_type": "markdown",
   "metadata": {
    "id": "cGhR7uFBouLl"
   },
   "source": [
    "Bây giờ chúng ta có mọi khối cần thiết để tạo `SFTTrainer` bắt đầu đào tạo mô hình của chúng ta."
   ]
  },
  {
   "cell_type": "code",
   "execution_count": null,
   "metadata": {
    "id": "M00Har2douLl"
   },
   "outputs": [],
   "source": [
    "max_seq_length = 1512  # độ dài chuỗi tối đa cho mô hình và đóng gói bộ dữ liệu\n",
    "\n",
    "# Tạo SFTTrainer với cấu hình LoRA\n",
    "trainer = SFTTrainer(\n",
    "    model=model,\n",
    "    args=args,\n",
    "    train_dataset=dataset[\"train\"],\n",
    "    peft_config=peft_config,  # Cấu hình LoRA\n",
    "    max_seq_length=max_seq_length,  # Độ dài chuỗi tối đa\n",
    "    tokenizer=tokenizer,\n",
    "    packing=True,  # Bật đóng gói đầu vào để tăng hiệu quả\n",
    "    dataset_kwargs={\n",
    "        \"add_special_tokens\": False,  # Các token đặc biệt được xử lý bởi template\n",
    "        \"append_concat_token\": False,  # Không cần thêm ký tự phân tách\n",
    "    },\n",
    ")"
   ]
  },
  {
   "cell_type": "markdown",
   "metadata": {
    "id": "zQ_kRN24ouLl"
   },
   "source": [
    "Bắt đầu huấn luyện mô hình của chúng ta bằng cách gọi phương thức `train()` trên đối tượng `Trainer`. Điều này sẽ bắt đầu vòng lặp huấn luyện và huấn luyện mô hình của chúng ta trong 3 epoch. Vì chúng ta đang sử dụng phương pháp PEFT, chúng ta sẽ chỉ lưu các trọng số mô hình đã được điều chỉnh và không lưu toàn bộ mô hình."
   ]
  },
  {
   "cell_type": "code",
   "execution_count": null,
   "metadata": {
    "id": "Tq4nIYqKouLl"
   },
   "outputs": [
    {
     "data": {
      "application/vnd.jupyter.widget-view+json": {
       "model_id": "300e5dfbb4b54750b77324345c7591f9",
       "version_major": 2,
       "version_minor": 0
      },
      "text/plain": [
       "  0%|          | 0/72 [00:00<?, ?it/s]"
      ]
     },
     "metadata": {},
     "output_type": "display_data"
    },
    {
     "data": {
      "text/plain": [
       "TrainOutput(global_step=72, training_loss=1.6402628521124523, metrics={'train_runtime': 195.2398, 'train_samples_per_second': 1.485, 'train_steps_per_second': 0.369, 'total_flos': 282267289092096.0, 'train_loss': 1.6402628521124523, 'epoch': 0.993103448275862})"
      ]
     },
     "execution_count": 26,
     "metadata": {},
     "output_type": "execute_result"
    }
   ],
   "source": [
    "# bắt đầu huấn luyện\n",
    "trainer.train()\n",
    "\n",
    "# lưu mô hình\n",
    "trainer.save_model()"
   ]
  },
  {
   "cell_type": "markdown",
   "metadata": {
    "id": "y4HHSYYzouLl"
   },
   "source": [
    "Việc huấn luyện với Flash Attention trong 3 epoch với tập dữ liệu gồm 15k mẫu mất 4:14:36 trên `g5.2xlarge`. Chi phí của phiên bản này là `1.21$/h`, tổng chi phí chỉ khoảng ~`5.3$`.\n"
   ]
  },
  {
   "cell_type": "markdown",
   "metadata": {
    "id": "C309KsXjouLl"
   },
   "source": [
    "### Hợp nhất adapter LoRA vào mô hình gốc\n",
    "\n",
    "Khi sử dụng LoRA, chúng ta chỉ huấn luyện các trọng số của adapter trong khi giữ nguyên mô hình gốc. Trong quá trình huấn luyện, chúng ta chỉ lưu các trọng số nhẹ của adapter (~2-10MB) thay vì một bản sao đầy đủ của mô hình. Tuy nhiên, để triển khai, bạn có thể muốn hợp nhất các adapter trở lại mô hình gốc vì:\n",
    "\n",
    "1. **Triển khai đơn giản**: Một tệp mô hình thay vì mô hình gốc + bộ adapter\n",
    "2. **Tốc độ suy luận**: Không cần tính toán adapter\n",
    "3. **Tương thích với framework**: Tương thích tốt hơn với các framework\n"
   ]
  },
  {
   "cell_type": "code",
   "execution_count": null,
   "metadata": {},
   "outputs": [],
   "source": [
    "from peft import AutoPeftModelForCausalLM\n",
    "\n",
    "\n",
    "# Tải PEFT vào CPU\n",
    "model = AutoPeftModelForCausalLM.from_pretrained(\n",
    "    pretrained_model_name_or_path=args.output_dir,\n",
    "    torch_dtype=torch.float16,\n",
    "    low_cpu_mem_usage=True,\n",
    ")\n",
    "\n",
    "# Kết hợp các trọng số trong Adapter và LoRA sau đó lưu mô hình\n",
    "merged_model = model.merge_and_unload()\n",
    "merged_model.save_pretrained(\n",
    "    args.output_dir, safe_serialization=True, max_shard_size=\"2GB\"\n",
    ")"
   ]
  },
  {
   "cell_type": "markdown",
   "metadata": {
    "id": "-yO6E9quouLl"
   },
   "source": [
    "## 3. Kiểm thử mô hình và chạy thử\n",
    "\n",
    "Sau khi huấn luyện xong, chúng ta muốn kiểm thử mô hình của mình. Chúng ta sẽ tải các mẫu khác nhau từ bộ dữ liệu gốc và đánh giá mô hình trên các mẫu đó, sử dụng một vòng lặp đơn giản và độ chính xác làm thước đo.\n"
   ]
  },
  {
   "cell_type": "markdown",
   "metadata": {},
   "source": [
    "<div style='background-color: lightblue; padding: 10px; border-radius: 5px; margin-bottom: 20px; color:black'>\n",
    "    <h2 style='margin: 0;color:blue'>Bài tập bổ sung: tải LoRA Adapter</h2>\n",
    "    <p>Sử dụng những gì bạn học được từ ghi chú để tải LoRA Adapter đã được đào tạo của bạn để chạy</p> \n",
    "</div>"
   ]
  },
  {
   "cell_type": "code",
   "execution_count": 30,
   "metadata": {
    "id": "I5B494OdouLl"
   },
   "outputs": [],
   "source": [
    "# dọn dẹp bộ nhớ\n",
    "del model\n",
    "del trainer\n",
    "torch.cuda.empty_cache()"
   ]
  },
  {
   "cell_type": "code",
   "execution_count": null,
   "metadata": {
    "id": "P1UhohVdouLl"
   },
   "outputs": [],
   "source": [
    "import torch\n",
    "from peft import AutoPeftModelForCausalLM\n",
    "from transformers import AutoTokenizer, pipeline\n",
    "\n",
    "# Load Model with PEFT adapter\n",
    "tokenizer = AutoTokenizer.from_pretrained(finetune_name)\n",
    "model = AutoPeftModelForCausalLM.from_pretrained(\n",
    "    finetune_name, device_map=\"auto\", torch_dtype=torch.float16\n",
    ")\n",
    "pipe = pipeline(\n",
    "    \"text-generation\", model=merged_model, tokenizer=tokenizer, device=device\n",
    ")"
   ]
  },
  {
   "cell_type": "markdown",
   "metadata": {
    "id": "99uFDAuuouLl"
   },
   "source": [
    "Hãy thử một số ví dụ để xem mô hình hoạt động"
   ]
  },
  {
   "cell_type": "code",
   "execution_count": 34,
   "metadata": {
    "id": "-shSmUbvouLl",
    "outputId": "16d97c61-3b31-4040-c780-3c4de75c3824"
   },
   "outputs": [],
   "source": [
    "prompts = [\n",
    "    \"What is the capital of Germany? Explain why thats the case and if it was different in the past?\",\n",
    "    \"Write a Python function to calculate the factorial of a number.\",\n",
    "    \"A rectangular garden has a length of 25 feet and a width of 15 feet. If you want to build a fence around the entire garden, how many feet of fencing will you need?\",\n",
    "    \"What is the difference between a fruit and a vegetable? Give examples of each.\",\n",
    "]\n",
    "\n",
    "\n",
    "def test_inference(prompt):\n",
    "    prompt = pipe.tokenizer.apply_chat_template(\n",
    "        [{\"role\": \"user\", \"content\": prompt}],\n",
    "        tokenize=False,\n",
    "        add_generation_prompt=True,\n",
    "    )\n",
    "    outputs = pipe(\n",
    "        prompt,\n",
    "    )\n",
    "    return outputs[0][\"generated_text\"][len(prompt) :].strip()\n",
    "\n",
    "\n",
    "for prompt in prompts:\n",
    "    print(f\"    prompt:\\n{prompt}\")\n",
    "    print(f\"    response:\\n{test_inference(prompt)}\")\n",
    "    print(\"-\" * 50)"
   ]
  }
 ],
 "metadata": {
  "colab": {
   "provenance": []
  },
  "kernelspec": {
   "display_name": ".venv",
   "language": "python",
   "name": "python3"
  },
  "language_info": {
   "codemirror_mode": {
    "name": "ipython",
    "version": 3
   },
   "file_extension": ".py",
   "mimetype": "text/x-python",
   "name": "python",
   "nbconvert_exporter": "python",
   "pygments_lexer": "ipython3",
   "version": "3.11.10"
  },
  "orig_nbformat": 4
 },
 "nbformat": 4,
 "nbformat_minor": 0
}
