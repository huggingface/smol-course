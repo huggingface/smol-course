{
    "cells": [
        {
            "cell_type": "markdown",
            "metadata": {},
            "source": [
                "# Xây dựng Trợ lý AI\n",
                "\n",
                "Sổ tay này chứa các bài tập giúp bạn học cách xây dựng các loại trợ lý khác nhau sử dụng thư viện `smolagents`. Chúng ta sẽ bắt đầu từ các triển khai cơ bản đến các triển khai phức tạp hơn.\n",
                "\n",
                "## Cài đặt\n",
                "\n",
                "Đầu tiên, hãy cài đặt các gói cần thiết:"
            ]
        },
        {
            "cell_type": "code",
            "execution_count": null,
            "metadata": {},
            "outputs": [],
            "source": [
                "!pip install smolagents\n",
                "\n",
                "# Cài đặt các yêu cầu trong Google Colab\n",
                "\n",
                "# !pip install transformers datasets trl huggingface_hub\n",
                "\n",
                "# Authenticate to Hugging Face\n",
                "from huggingface_hub import login\n",
                "\n",
                "login()"
            ]
        },
        {
            "cell_type": "markdown",
            "metadata": {},
            "source": [
                "## 🐢 Bài tập 1: Trợ lý Mã Cơ bản\n",
                "\n",
                "Hãy bắt đầu bằng cách tạo một trợ lý mã đơn giản có thể trả lời các câu hỏi liên quan đến lập trình bằng cách sử dụng tìm kiếm trên web."
            ]
        },
        {
            "cell_type": "code",
            "execution_count": null,
            "metadata": {},
            "outputs": [],
            "source": [
                "from smolagents import CodeAgent, DuckDuckGoSearchTool, HfApiModel\n",
                "\n",
                "# Initialize the agent\n",
                "agent = CodeAgent(tools=[DuckDuckGoSearchTool()], model=HfApiModel())\n",
                "\n",
                "# Test the agent\n",
                "response = agent.run(\"What's the difference between a list and a tuple in Python?\")\n",
                "print(response)"
            ]
        },
        {
            "cell_type": "markdown",
            "metadata": {},
            "source": [
                "### 🤔 Thử thách Bài tập 1\n",
                "Hãy thử yêu cầu trợ lý giải thích các khái niệm lập trình khác nhau và đánh giá các phản hồi của nó. Nó xử lý tốt như thế nào với:\n",
                "1. Các câu hỏi về cú pháp cơ bản\n",
                "2. Các tính năng đặc thù của ngôn ngữ\n",
                "3. Các ví dụ mã nguồn"
            ]
        },
        {
            "cell_type": "markdown",
            "metadata": {},
            "source": [
                "## 🐕 Bài tập 2: Trợ lý với Chức năng Tùy chỉnh\n",
                "\n",
                "Bây giờ, hãy tạo một trợ lý có thể thực hiện các tác vụ cụ thể bằng cách sử dụng các chức năng tùy chỉnh. Chúng ta sẽ triển khai một công cụ máy tính đơn giản."
            ]
        },
        {
            "cell_type": "code",
            "execution_count": null,
            "metadata": {},
            "outputs": [],
            "source": [
                "from smolagents import CodeAgent, tool\n",
                "from typing import Union\n",
                "\n",
                "\n",
                "@tool\n",
                "def calculate(operation: str, numbers: object) -> float:\n",
                "    \"\"\"Thực hiện các phép toán cơ bản trên một danh sách các số.\n",
                "\n",
                "    Args:\n",
                "        operation: Một trong các phép toán 'sum', 'average', 'multiply', 'min', 'max'\n",
                "        numbers: Danh sách các số để thực hiện phép toán\n",
                "\n",
                "    Returns:\n",
                "        float: Kết quả của phép toán\n",
                "    \"\"\"\n",
                "    if operation == \"sum\":\n",
                "        return sum(numbers)\n",
                "    elif operation == \"average\":\n",
                "        return sum(numbers) / len(numbers)\n",
                "    elif operation == \"multiply\":\n",
                "        result = 1\n",
                "        for n in numbers:\n",
                "            result *= n\n",
                "        return result\n",
                "    elif operation == \"min\":\n",
                "        return min(numbers)\n",
                "    elif operation == \"max\":\n",
                "        return max(numbers)\n",
                "    else:\n",
                "        raise ValueError(f\"Phép toán không hợp lệ: {operation}\")\n",
                "\n",
                "\n",
                "# Tạo trợ lý với công cụ tùy chỉnh\n",
                "math_agent = CodeAgent(tools=[calculate], model=HfApiModel())\n",
                "\n",
                "# Kiểm tra trợ lý\n",
                "response = math_agent.run(\"Giá trị trung bình của 10, 15, 20, 25 và 30 là bao nhiêu?\")\n",
                "print(response)"
            ]
        },
        {
            "cell_type": "markdown",
            "metadata": {},
            "source": [
                "### 🤔 Thử thách Bài tập 2\n",
                "1. Thêm các phép toán toán học khác vào công cụ máy tính.\n",
                "2. Tạo một công cụ tùy chỉnh mới (ví dụ: xử lý chuỗi hoặc tính toán ngày tháng).\n",
                "3. Kết hợp nhiều công cụ tùy chỉnh trong một trợ lý."
            ]
        },
        {
            "cell_type": "markdown",
            "metadata": {},
            "source": [
                "## 🦁 Bài tập 3: Trợ lý Truy xuất Nâng cao\n",
                "\n",
                "Cuối cùng, hãy xây dựng một trợ lý phức tạp hơn kết hợp tìm kiếm trên web với bộ nhớ để duy trì bối cảnh trong suốt các cuộc trò chuyện."
            ]
        },
        {
            "cell_type": "code",
            "execution_count": null,
            "metadata": {},
            "outputs": [],
            "source": [
                "from smolagents import CodeAgent, DuckDuckGoSearchTool\n",
                "\n",
                "# Khởi tạo trợ lý với bộ nhớ\n",
                "research_agent = CodeAgent(...)  # TODO: Định nghĩa trợ lý\n",
                "\n",
                "# Kiểm tra với một cuộc trò chuyện nhiều lượt\n",
                "questions = [\n",
                "    \"Các loại học máy chính là gì?\",\n",
                "    \"Bạn có thể giải thích học có giám sát chi tiết hơn không?\",\n",
                "    \"Một số thuật toán phổ biến cho loại này là gì?\",\n",
                "]\n",
                "\n",
                "# TODO: Kiểm tra trợ lý"
            ]
        },
        {
            "cell_type": "markdown",
            "metadata": {},
            "source": [
                "### 🤔 Thử thách Bài tập 3\n",
                "1. Kiểm tra xem trợ lý duy trì bối cảnh như thế nào giữa các chủ đề khác nhau.\n",
                "2. Triển khai công cụ cơ sở kiến thức tùy chỉnh (như ví dụ trong retrieval_agents.md).\n",
                "3. Tạo một trợ lý kết hợp giữa khả năng hiểu mã và khả năng nghiên cứu."
            ]
        }
    ],
    "metadata": {
        "kernelspec": {
            "display_name": "Python 3",
            "language": "python",
            "name": "python3"
        },
        "language_info": {
            "codemirror_mode": {
                "name": "ipython",
                "version": 3
            },
            "file_extension": ".py",
            "mimetype": "text/x-python",
            "name": "python",
            "nbconvert_exporter": "python",
            "pygments_lexer": "ipython3",
            "version": "3.12.8"
        }
    },
    "nbformat": 4,
    "nbformat_minor": 2
}
