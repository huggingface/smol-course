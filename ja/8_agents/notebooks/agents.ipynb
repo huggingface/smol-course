{
    "cells": [
        {
            "cell_type": "markdown",
            "metadata": {},
            "source": [
                "# AIエージェントの構築\n",
                "\n",
                "このノートブックには、`smolagents`ライブラリを使用してさまざまなタイプのエージェントを構築するための演習が含まれています。基本的な実装からより複雑な実装へと進んでいきます。\n",
                "\n",
                "## セットアップ\n",
                "\n",
                "まず、必要なパッケージをインストールしましょう："
            ]
        },
        {
            "cell_type": "code",
            "execution_count": null,
            "metadata": {},
            "outputs": [],
            "source": [
                "!pip install smolagents\n",
                "\n",
                "# Google Colabでの要件のインストール\n",
                "# !pip install transformers datasets trl huggingface_hub\n",
                "\n",
                "# Hugging Faceへの認証\n",
                "from huggingface_hub import login\n",
                "\n",
                "login()"
            ]
        },
        {
            "cell_type": "markdown",
            "metadata": {},
            "source": [
                "## 🐢 演習1: 基本的なコードエージェント\n",
                "\n",
                "まず、Web検索を使用してプログラミング関連の質問に答えるシンプルなコードエージェントを作成しましょう。"
            ]
        },
        {
            "cell_type": "code",
            "execution_count": null,
            "metadata": {},
            "outputs": [],
            "source": [
                "from smolagents import CodeAgent, DuckDuckGoSearchTool, HfApiModel\n",
                "\n",
                "# エージェントを初期化\n",
                "agent = CodeAgent(tools=[DuckDuckGoSearchTool()], model=HfApiModel())\n",
                "\n",
                "# エージェントをテスト\n",
                "response = agent.run(\"Pythonのリストとタプルの違いは何ですか？\")\n",
                "print(response)"
            ]
        },
        {
            "cell_type": "markdown",
            "metadata": {},
            "source": [
                "### 🤔 演習1チャレンジ\n",
                "エージェントにさまざまなプログラミングの概念を説明させ、その応答を評価してみてください。次のような質問にどれだけうまく対応できるかを確認します：\n",
                "1. 基本的な構文の質問\n",
                "2. 言語固有の機能\n",
                "3. コード例"
            ]
        },
        {
            "cell_type": "markdown",
            "metadata": {},
            "source": [
                "## 🐕 演習2: カスタム関数を持つエージェント\n",
                "\n",
                "次に、カスタム関数を使用して特定のタスクを実行で���るエージェントを作成しましょう。シンプルな計算機ツールを実装します。"
            ]
        },
        {
            "cell_type": "code",
            "execution_count": null,
            "metadata": {},
            "outputs": [],
            "source": [
                "from smolagents import CodeAgent, tool\n",
                "from typing import Union\n",
                "\n",
                "\n",
                "@tool\n",
                "def calculate(operation: str, numbers: object) -> float:\n",
                "    \"\"\"基本的な数学的操作をリストの数値に対して実行します。\n",
                "\n",
                "    Args:\n",
                "        operation: 'sum', 'average', 'multiply', 'min', 'max'のいずれか\n",
                "        numbers: 操作対象の数値のリスト\n",
                "\n",
                "    Returns:\n",
                "        float: 操作の結果\n",
                "    \"\"\"\n",
                "    if operation == \"sum\":\n",
                "        return sum(numbers)\n",
                "    elif operation == \"average\":\n",
                "        return sum(numbers) / len(numbers)\n",
                "    elif operation == \"multiply\":\n",
                "        result = 1\n",
                "        for n in numbers:\n",
                "            result *= n\n",
                "        return result\n",
                "    elif operation == \"min\":\n",
                "        return min(numbers)\n",
                "    elif operation == \"max\":\n",
                "        return max(numbers)\n",
                "    else:\n",
                "        raise ValueError(f\"未知の操作: {operation}\")\n",
                "\n",
                "\n",
                "# カスタムツールを持つエージェントを作成\n",
                "math_agent = CodeAgent(tools=[calculate], model=HfApiModel())\n",
                "\n",
                "# エージェントをテスト\n",
                "response = math_agent.run(\"10, 15, 20, 25, 30の平均は何ですか？\")\n",
                "print(response)"
            ]
        },
        {
            "cell_type": "markdown",
            "metadata": {},
            "source": [
                "### 🤔 演習2チャレンジ\n",
                "1. 計算機ツールにさらに多くの数学的操作を追加します\n",
                "2. 新しいカスタムツール（例：文字列操作や日付計算）を作成します\n",
                "3. 複数のカスタムツールを1つのエージェントに組み合わせます"
            ]
        },
        {
            "cell_type": "markdown",
            "metadata": {},
            "source": [
                "## 🦁 演習3: 高度な取得エージェント\n",
                "\n",
                "最後に、Web検索とメモリを組み合わせて会話のコンテキストを維持する、より高度なエージェントを構築しましょう。"
            ]
        },
        {
            "cell_type": "code",
            "execution_count": null,
            "metadata": {},
            "outputs": [],
            "source": [
                "from smolagents import CodeAgent, DuckDuckGoSearchTool\n",
                "\n",
                "# メモリを持つエージェントを初期化\n",
                "research_agent = CodeAgent(...)  # TODO: エージェントを定義\n",
                "\n",
                "# マルチターンの会話でテスト\n",
                "questions = [\n",
                "    \"機械学習の主な種類は何ですか？\",\n",
                "    \"教師あり学習について詳しく説明してください。\",\n",
                "    \"このタイプの人気のあるアルゴリズムは何ですか？\",\n",
                "]\n",
                "\n",
                "# TODO: エージェントをテスト"
            ]
        },
        {
            "cell_type": "markdown",
            "metadata": {},
            "source": [
                "### 🤔 演習3チャレンジ\n",
                "1. エージェントが異なるトピック間でコンテキストをどれだけうまく維持できるかをテストします\n",
                "2. カスタム知識ベースツールを実装します（retrieval_agents.mdの例を参照）\n",
                "3. コード理解と研究能力を組み合わせたハイブリッドエージェントを作成します"
            ]
        }
    ],
    "metadata": {
        "kernelspec": {
            "display_name": "Python 3",
            "language": "python",
            "name": "python3"
        },
        "language_info": {
            "codemirror_mode": {
                "name": "ipython",
                "version": 3
            },
            "file_extension": ".py",
            "mimetype": "text/x-python",
            "name": "python",
            "nbconvert_exporter": "python",
            "pygments_lexer": "ipython3",
            "version": "3.12.8"
        }
    },
    "nbformat": 4,
    "nbformat_minor": 2
}
