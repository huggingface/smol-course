{
 "cells": [
  {
   "cell_type": "markdown",
   "metadata": {},
   "source": [
    "# 为偏好对齐生成数据集\n",
    "\n",
    "本文将介绍如何为偏好对齐构建人造的数据集。我们将使用 `distilabel` 这个库。\n",
    "\n",
    "接下来我们开始实践学习。\n",
    "\n",
    "<div style='background-color: lightblue; padding: 10px; border-radius: 5px; margin-bottom: 20px; color:black'>\n",
    "    <h2 style='margin: 0;color:blue'>练习：为偏好对齐生成数据集</h2>\n",
    "    <p>通过学习，你可以尝试为偏好对齐生成数据集</p>\n",
    "    <p><b>难度等级</b></p>\n",
    "    <p>🐢 为偏好对齐生成数据集</p>\n",
    "    <p>🐕 为偏好对齐生成数据集，对回答进行迭代优化</p>\n",
    "    <p>🦁 为偏好对齐生成数据集，对回答进行迭代优化，并使用 model pooling 技术</p>\n",
    "</div>"
   ]
  },
  {
   "cell_type": "markdown",
   "metadata": {
    "vscode": {
     "languageId": "plaintext"
    }
   },
   "source": [
    "## 安装依赖\n",
    "\n",
    "在 `transformers` 之外，你也可以安装 `vllm` 或 `hf-inference-endpoints`。"
   ]
  },
  {
   "cell_type": "code",
   "execution_count": null,
   "metadata": {},
   "outputs": [],
   "source": [
    "!pip install \"distilabel[hf-transformers,outlines,instructor]\""
   ]
  },
  {
   "cell_type": "markdown",
   "metadata": {},
   "source": [
    "## 开始合成数据\n",
    "\n",
    "前面已经学过了，我们可以用 `distilabel` 的 pipeline 去执行偏好数据集的生成。一个最小化的 pipeline 已经提供过了。你可以扩展这个 pipeline 生成更大的数据集。你可以试验一下改变模型、修改生成参数等操作如何影响合成数据集的质量。先在小规模上试验，得出结论后再扩展到大规模生成上。\n",
    "\n",
    "你可以阅读 [distilabel](https://distilabel.argilla.io/latest/components-gallery/) 相关文档学习更多处理方法。\n",
    "\n",
    "你可以从 Hugging Face Hub 载入种子数据集，而不是像之前提供一个字典类数据。\n",
    "\n",
    "```python\n",
    "from datasets import load_dataset\n",
    "\n",
    "with Pipeline(...) as pipeline:\n",
    "    ...\n",
    "\n",
    "if __name__ == \"__main__:\n",
    "    dataset = load_dataset(\"my-dataset\", split=\"train\")\n",
    "    distiset = pipeline.run(dataset=dataset)\n",
    "```\n",
    "\n",
    "跑完后，你也可以将你生成的数据上传到 Hugging Face Hub。"
   ]
  },
  {
   "cell_type": "code",
   "execution_count": null,
   "metadata": {},
   "outputs": [],
   "source": [
    "from distilabel.llms import TransformersLLM\n",
    "from distilabel.pipeline import Pipeline\n",
    "from distilabel.steps import GroupColumns, LoadDataFromDicts\n",
    "from distilabel.steps.tasks import TextGeneration\n",
    "\n",
    "with Pipeline() as pipeline:\n",
    "    data = LoadDataFromDicts(data=[{\"instruction\": \"What is synthetic data?\"}])\n",
    "    llm_a = TransformersLLM(model=\"HuggingFaceTB/SmolLM2-1.7B-Instruct\")\n",
    "    gen_a = TextGeneration(llm=llm_a)\n",
    "    llm_b = TransformersLLM(model=\"Qwen/Qwen2.5-1.5B-Instruct\")\n",
    "    gen_b = TextGeneration(llm=llm_b)\n",
    "    group = GroupColumns(columns=[\"generation\"])\n",
    "    data >> [gen_a, gen_b] >> group\n",
    "\n",
    "if __name__ == \"__main__\":\n",
    "    distiset = pipeline.run()\n",
    "    distiset.push_to_hub(\"huggingface-smol-course-preference-tuning-dataset\")"
   ]
  },
  {
   "cell_type": "markdown",
   "metadata": {},
   "source": [
    "## 🌯 完成\n",
    "\n",
    "现在你已经学会如何为指令微调生成数据集了，你可以用你学到的东西来：\n",
    "\n",
    "- 为偏好对齐生成训练数据集\n",
    "- 为偏好对齐生成评测数据集\n",
    "\n",
    "🏋️‍♂️ 参考[第二章的内容](../../2_preference_alignment/README.md)，用合成数据集对一个模型进行偏好对齐\n"
   ]
  }
 ],
 "metadata": {
  "language_info": {
   "name": "python"
  }
 },
 "nbformat": 4,
 "nbformat_minor": 2
}
